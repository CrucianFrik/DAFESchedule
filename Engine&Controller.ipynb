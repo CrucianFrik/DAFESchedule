{
  "cells": [
    {
      "cell_type": "markdown",
      "source": [
        "###format rules\n",
        "\n",
        "1 строчка -- название курса\n",
        "\n",
        "2 строчка -- пустая\n",
        "\n",
        "3 строчка -- названия групп\n",
        "\n",
        "4 строчка -- профили групп через ';'\n",
        "\n",
        "5 сторочка -- начинается расписание"
      ],
      "metadata": {
        "id": "TMQNC6D_musf"
      }
    },
    {
      "cell_type": "markdown",
      "source": [
        "###imports"
      ],
      "metadata": {
        "id": "zFpDKQs2i7l3"
      }
    },
    {
      "cell_type": "code",
      "execution_count": 1,
      "metadata": {
        "id": "ZzIZ6zC4VC_a"
      },
      "outputs": [],
      "source": [
        "import numpy as np\n",
        "import pandas as pd\n",
        "import json\n",
        "from datetime import datetime \n",
        "\n",
        "import httplib2 \n",
        "import apiclient.discovery\n",
        "from oauth2client.service_account import ServiceAccountCredentials\t\n",
        "\n",
        "from google.oauth2 import service_account\n",
        "from googleapiclient.http import MediaIoBaseDownload,MediaFileUpload\n",
        "from googleapiclient.discovery import build\n",
        "import pprint\n",
        "import math\n",
        "import pandas as pd\n",
        "import io\n",
        "\n",
        "from openpyxl import load_workbook\n",
        "import string"
      ]
    },
    {
      "cell_type": "markdown",
      "source": [
        "###auxiliary"
      ],
      "metadata": {
        "id": "41tixhuDjCB8"
      }
    },
    {
      "cell_type": "code",
      "source": [
        "def generate_warning_msg(text):\n",
        "  return \"\\nWRRNING!\\n\"+text+\"\\n\""
      ],
      "metadata": {
        "id": "x11WXmWjhvG7"
      },
      "execution_count": 2,
      "outputs": []
    },
    {
      "cell_type": "code",
      "execution_count": 3,
      "metadata": {
        "id": "U6Wrf_JWo5c7"
      },
      "outputs": [],
      "source": [
        "class Message:\n",
        "  def __init__(self):\n",
        "    self.__content = dict()\n",
        "\n",
        "  def __make_tuple(self, elem):\n",
        "    return elem if type(elem) == tuple else tuple(elem) if type(elem) == list else tuple([elem])\n",
        "\n",
        "  def add_request(self, args):\n",
        "    self.__content[\"request\"] = dict(filter(lambda x: x, map(lambda x: (x[0], self.__make_tuple(x[1])) if x[1] else (), args.items())))\n",
        "    \n",
        "  def add_log(self, logtext):\n",
        "    self.__content[\"log\"] = logtext\n",
        "\n",
        "  def get_content(self):\n",
        "    return self.__content\n",
        "\n",
        "  def get_json(self):\n",
        "    return json.dumps(self.__content, ensure_ascii=False)\n"
      ]
    },
    {
      "cell_type": "markdown",
      "source": [
        "###Controller, Engine"
      ],
      "metadata": {
        "id": "qt4qswetjLmA"
      }
    },
    {
      "cell_type": "code",
      "execution_count": 35,
      "metadata": {
        "id": "G8mX0Rx5RXAH"
      },
      "outputs": [],
      "source": [
        "class Controller:\n",
        "  def __init__(self):\n",
        "    self.__engine = Engine()\n",
        "\n",
        "  def schedule_request(self, group_id = (), course = (), teacher_id = (), class_id = (), weekday_id = (), pair_numbers = ()):\n",
        "    #typle args are expected\n",
        "    msg = Message()\n",
        "    msg.add_request({\"groups\": group_id,  \"courses\": course, \"teachers\": teacher_id, \"classes\": class_id, \"weekdays\": weekday_id, \"pair_numbers\": pair_numbers})\n",
        "    return self.__engine.schedule_request(msg)\n",
        "\n",
        "  def schedule_db_request(self):\n",
        "    return self.__engine.schedule_db_request()\n",
        "  \n"
      ]
    },
    {
      "cell_type": "code",
      "execution_count": 36,
      "metadata": {
        "id": "WcV9YBC3Ij1_"
      },
      "outputs": [],
      "source": [
        "class Engine:\n",
        "  def __init__(self):\n",
        "    self.__scheduleData = DataFrame()\n",
        "\n",
        "  def schedule_request(self, msg):\n",
        "    return self.__scheduleData.request(msg)\n",
        "  \n",
        "  def schedule_db_request(self):\n",
        "      return self.__scheduleData.get_tables()"
      ]
    },
    {
      "cell_type": "markdown",
      "source": [
        "###abstract Parser classes"
      ],
      "metadata": {
        "id": "VY8BO1CAiX1w"
      }
    },
    {
      "cell_type": "code",
      "execution_count": 4,
      "metadata": {
        "id": "264sXBQasm_2"
      },
      "outputs": [],
      "source": [
        "class Parser:\n",
        "  def __init__(self, res):\n",
        "    self._resource = res\n",
        "\n",
        "  def parse(self):\n",
        "    pass"
      ]
    },
    {
      "cell_type": "code",
      "source": [
        "class ParserGlobal(Parser):\n",
        "  def __init__(self, res):\n",
        "    super().__init__(res)\n",
        "\n",
        "class ParserLocal(Parser):\n",
        "  def __init__(self, res):\n",
        "    super().__init__(res)"
      ],
      "metadata": {
        "id": "hJEvqLQDA3e6"
      },
      "execution_count": 5,
      "outputs": []
    },
    {
      "cell_type": "markdown",
      "source": [
        "###ParserTables"
      ],
      "metadata": {
        "id": "07_1wjqIibXV"
      }
    },
    {
      "cell_type": "code",
      "execution_count": 6,
      "metadata": {
        "id": "fZ-HNynNB3az"
      },
      "outputs": [],
      "source": [
        "class ParserTables(ParserLocal):\n",
        "  def parse(self, msg):\n",
        "    for i in self._resource:\n",
        "      if i.get_name() == \"pairse\":\n",
        "        res = self._resource\n",
        "    req = msg.get_content()[\"request\"]\n",
        "\n",
        "    if req[\"courses\"]:\n",
        "      req[\"groups\"] = req.get(\"groups\", ())+tuple((self._resource[\"groups\"][(self._resource[\"groups\"][\"Course\"].isin(req[\"courses\"]))].index))\n",
        "      req.pop(\"courses\")\n",
        "\n",
        "    for param in req:\n",
        "      if param != \"courses\":\n",
        "        res = res[(res[param].isin(req[param]))]    \n",
        "    return res"
      ]
    },
    {
      "cell_type": "markdown",
      "source": [
        "###XlsxFile"
      ],
      "metadata": {
        "id": "TiKq9JujiQT4"
      }
    },
    {
      "cell_type": "code",
      "source": [
        "class XlsxFile:\n",
        "  def __init__(self, path):\n",
        "    self.__LATIN_ALPHABET = ['-']+list(string.ascii_uppercase)\n",
        "\n",
        "    self.__path = path\n",
        "    self.__wb = load_workbook(self.__path)\n",
        "\n",
        "  def unmerge_cells(self):\n",
        "    print(\"XlsxFile: unmearging started\")\n",
        "    for sheet_name in self.__wb.get_sheet_names():\n",
        "      sheet = self.__wb.get_sheet_by_name(sheet_name)\n",
        "      self.__unmerge_cells_in_list(sheet, sheet_name)\n",
        "    self.save()\n",
        "    print(\"XlsxFile: complited\")\n",
        "  \n",
        "  def save(self, path=''):\n",
        "    self.__wb.save(path if path else self.__path) \n",
        "\n",
        "  def get_sheet(self, name):\n",
        "    try:\n",
        "      return pd.read_excel(self.__path, sheet_name=name)\n",
        "    except ValueError as e:\n",
        "      print(generate_warning_msg(f\"no list '{name}', lists names:\"), self.__wb.get_sheet_names(), \"\\n\")\n",
        "\n",
        "  def get_pd(self):\n",
        "    sheet_list = []\n",
        "    for sheet_name in self.__wb.get_sheet_names():\n",
        "      sheet = self.__wb.get_sheet_by_name(sheet_name)\n",
        "      sheet_list.append(pd.read_excel(self.__path, sheet_name=sheet_name))\n",
        "    return sheet_list\n",
        "#___________________________________________________________________________________________\n",
        "\n",
        "  def __get_colomn_and_row(self, _range):\n",
        "    c = 0\n",
        "    r = ''\n",
        "    for i in _range:\n",
        "      if i.isalpha():\n",
        "        c += self.__LATIN_ALPHABET.index(i)\n",
        "      else:\n",
        "        r += i\n",
        "    return (c, int(r))\n",
        "\n",
        "  def __find_not_NaN(self, startC, endC, sheet):\n",
        "    for c in range(startC[0], endC[0]+1):\n",
        "          for r in range(startC[1], endC[1]+1):\n",
        "            if type(sheet.cell(row=r, column=c).value) == str and sheet.cell(row=r, column=c).value:\n",
        "              return sheet.cell(row=r, column=c).value\n",
        "\n",
        "  def __unmerge_cells_in_list(self, sheet, sheet_name):\n",
        "    merged_Cells = list(sheet.merged_cells.ranges)    \n",
        "    for _range in merged_Cells:\n",
        "      startC, endC = map(self.__get_colomn_and_row, str(_range).split(':'))\n",
        "      sheet.unmerge_cells(str(_range))\n",
        "      v = self.__find_not_NaN(startC, endC, sheet)\n",
        "\n",
        "      for c in range(startC[0], endC[0]+1):\n",
        "        for r in range(startC[1], endC[1]+1):\n",
        "          try:\n",
        "            sheet.cell(row=r, column=c).value = sheet.cell(row=startC[1], column=startC[0]).value\n",
        "          except Exception as e:\n",
        "            print(f\"unmearge warning in sheet: {sheet_name}, range: {_range}\")\n"
      ],
      "metadata": {
        "id": "7EAZ3APRUUyP"
      },
      "execution_count": 166,
      "outputs": []
    },
    {
      "cell_type": "markdown",
      "source": [
        "###ParserGoogleSheet"
      ],
      "metadata": {
        "id": "roik8zkITECi"
      }
    },
    {
      "cell_type": "code",
      "execution_count": 164,
      "metadata": {
        "id": "61B6rV5MxbKo"
      },
      "outputs": [],
      "source": [
        "class ParserGoogleSheet(ParserGlobal):\n",
        "  def __init__(self, gFile_id, files_path=\"ParserGoogleSheetFile.xlsx\"):\n",
        "    super().__init__(gFile_id)\n",
        "    self.__tables = []\n",
        "\n",
        "    self.__init_service_acc()\n",
        "\n",
        "    self.__xlsx = self.__download_xlsx(gFile_id, files_path)\n",
        "    self.__xlsx.unmerge_cells()\n",
        "\n",
        "  def __init_service_acc(self):\n",
        "    SCOPES = ['https://www.googleapis.com/auth/drive']\n",
        "    SERVICE_ACCOUNT_FILE = 'central-diode-342919-c35aafd1b173.json'\n",
        "    credentials = service_account.Credentials.from_service_account_file(\n",
        "            SERVICE_ACCOUNT_FILE, scopes=SCOPES)\n",
        "    pp = pprint.PrettyPrinter(indent=4)\n",
        "    self.__service = build('drive', 'v3', credentials=credentials)\n",
        "\n",
        "  def __download_xlsx(self, gFile_id, path):\n",
        "    file_id = gFile_id\n",
        "    request = self.__service.files().export_media(fileId=file_id,\n",
        "                                                mimeType='application/vnd.openxmlformats-officedocument.spreadsheetml.sheet')\n",
        "    filename = path\n",
        "    fh = io.FileIO(filename, 'wb')\n",
        "    downloader = MediaIoBaseDownload(fh, request)\n",
        "    done = False\n",
        "    while done is False:\n",
        "        status, done = downloader.next_chunk()\n",
        "        print (\"Download .xlsx file %d%%.\" % int(status.progress() * 100))\n",
        "\n",
        "    return XlsxFile(path)\n",
        "\n",
        "  def get_sheet(self, name):\n",
        "    return self.__xlsx.get_sheet(name)\n",
        "\n",
        "  def save(self, name):\n",
        "    self.__xlsx.save(name)\n",
        "\n",
        "  def __getitem__(self, item):\n",
        "    for t in self.__tables:\n",
        "      if t.get_name() == item:\n",
        "        return t\n",
        "\n",
        "  def parse(self):\n",
        "    try:\n",
        "      print(\"ParserGoogleSheet: parsing started\")\n",
        "      self.__tables.append(ParserTeacherTable(self).parse())\n",
        "      self.__tables.append(ParserGroupTable(self).parse())\n",
        "      self.__tables.append(ParserClassTable(self).parse())\n",
        "      self.__tables.append(Table(\"weekdays\", [\"Weekday\"], [[\"Понедельник\", \"Вторник\", \"Среда\", \"Четверг\", \"Пятница\", \"Суббота\"]]))\n",
        "      self.__tables.append(Table(\"pairs\", [\"Time\"], [[\"9:00-10:25\", \"10:35-12:00\", \"12:10-13:35\", \"13:45-15:10\", \"15:20-16:45\", \"16:55-18:20\", \"18:25-19:45\"]]))\n",
        "      print(\"ParserGoogleSheet: complited\")\n",
        "      return self.__tables\n",
        "    except Exception as e:\n",
        "      print(\"ParserTeacherTable: WARNING!\")\n",
        "      print(e)\n"
      ]
    },
    {
      "cell_type": "markdown",
      "source": [
        "###global item parsers"
      ],
      "metadata": {
        "id": "6zu3qMm-ieye"
      }
    },
    {
      "cell_type": "code",
      "source": [
        "class ParserTeacherTable(Parser):\n",
        "  def __init__(self, parserGS):\n",
        "    super().__init__(None)\n",
        "    self.__parserGS = parserGS\n",
        "\n",
        "  def __teacher_table_parser(self, sheetName):\n",
        "      df =  self.__parserGS.get_sheet(sheetName)\n",
        "      df[\"Преподаватель\"] = df[\"Преподаватель\"].apply(self.__expand_line(3, \"-\"))\n",
        "      df[\"Должность\"] = df[\"Должность\"].apply(self.__expand_line(1, \"-\"))\n",
        "      teachers = df[[\"Преподаватель\", \"Должность\"]]\n",
        "      return teachers\n",
        "\n",
        "  def __expand_line(self, n, symb):\n",
        "      symb = \" \" + symb\n",
        "      return (lambda s: str(s) + symb*(n - len(str(s).split())) if s else symb*n)\n",
        "\n",
        "  def parse(self):\n",
        "    try:\n",
        "      sheet_values = pd.concat([\n",
        "          self.__teacher_table_parser(\"Список преподавателей институск\"), \n",
        "          self.__teacher_table_parser(\"Список преподавателей баз.кафед\")])\n",
        "      teachers = Table(\"teachers\", ['Surname','Name','Lastname','Post'])\n",
        "\n",
        "      for i in range(len(sheet_values)):\n",
        "        try:\n",
        "          teachers.add_line(sheet_values.iloc[i][\"Преподаватель\"].split()+[sheet_values.iloc[i][\"Должность\"].lower()])\n",
        "        except:\n",
        "          print(sheet_values.iloc[i])\n",
        "      \n",
        "      teachers.sort_by(\"Surname\")\n",
        "      teachers.reset_index()\n",
        "      print(\"ParserTeacherTable: complited\")\n",
        "      return teachers\n",
        "    except Exception as e:\n",
        "      print(\"ParserTeacherTable: WARNING!\")\n",
        "      print(e)"
      ],
      "metadata": {
        "id": "gjlZ4XbPndcf"
      },
      "execution_count": 148,
      "outputs": []
    },
    {
      "cell_type": "code",
      "source": [
        "class ParserClassTable(Parser):\n",
        "  def __init__(self, parserGS):\n",
        "    super().__init__(None)\n",
        "    self.__parserGS = parserGS\n",
        "  \n",
        "  def parse(self):\n",
        "    try:\n",
        "      sheet_values = self.__parserGS.get_sheet(\"аудиторный фонд\")\n",
        "      classes = list(filter(lambda x: str(x).isdigit(), sheet_values.loc[0]))\n",
        "      print(\"ParserClassTable: complited\")\n",
        "      return Table(\"classes\", [\"Number\"], [classes])\n",
        "    except Exception as e:\n",
        "      print(\"ParserClassTable: WARNING!\")\n",
        "      print(e)"
      ],
      "metadata": {
        "id": "WUkEAWUC9dAL"
      },
      "execution_count": 145,
      "outputs": []
    },
    {
      "cell_type": "code",
      "source": [
        "class ParserGroupTable(Parser):\n",
        "  def __init__(self, parserGS):\n",
        "    super().__init__(None)\n",
        "    self.__parserGS = parserGS\n",
        "\n",
        "  def parse(self):\n",
        "    try:\n",
        "      groups = Table(\"groups\", ['Course', 'Group'])\n",
        "      for num in range(1, 7):\n",
        "        sheet_values = self.__parserGS.get_sheet(str(num)+\" курс \")\n",
        "        group_names = list(filter(lambda x: x and not str(x).isalpha(), sheet_values.loc[1]))\n",
        "        groups.add_lines([[num]*len(group_names), group_names]) #(cource, group_name)\n",
        "      print(\"ParserGroupTable: complited\")\n",
        "      return groups\n",
        "    except Exception as e:\n",
        "      print(\"ParserClassTable: WARNING!\")\n",
        "      print(e)"
      ],
      "metadata": {
        "id": "YstoFth2s-vV"
      },
      "execution_count": 146,
      "outputs": []
    },
    {
      "cell_type": "code",
      "source": [
        "#was not edited after adding .xslx files support\n",
        "class ParserScheduleTable(Parser):\n",
        "  def __init__(self, parserGS):\n",
        "    super().__init__(None)\n",
        "    self.__parserGS = parserGS\n",
        "\n",
        "  def __format_sheet_values(self, sheetValues):\n",
        "    sheetValuesFormated = []\n",
        "    prev_line = []\n",
        "    for line in sheetValues[4:]:\n",
        "      if line:\n",
        "        line += [line[-1]]*(7-len(line))\n",
        "        for cell_id in range(len(line)-1):\n",
        "          if not line[cell_id]:\n",
        "            line[cell_id] = prev_line[cell_id]\n",
        "        prev_line = line\n",
        "      sheetValuesFormated.append(line)\n",
        "    return sheetValuesFormated\n",
        "\n",
        "  def parse(self):\n",
        "    schedule = Table(\"schedule\", ['WeekdayId', 'TimeId', 'ClassId', 'GroupId', \"TeacherId\"])\n",
        "\n",
        "    for num in range(1, 4):\n",
        "      sheetValues = self.__parserGS.get_sheet(SheetAdress(str(num)+\" курс \", \"A1:P60\"))\n",
        "      print(self.__format_sheet_values(sheetValues))\n",
        "      print()"
      ],
      "metadata": {
        "id": "pJ7gcJuIFtL9"
      },
      "execution_count": null,
      "outputs": []
    },
    {
      "cell_type": "markdown",
      "source": [
        "###DataFrame, Table"
      ],
      "metadata": {
        "id": "-ERSrzGITJNp"
      }
    },
    {
      "cell_type": "code",
      "execution_count": 161,
      "metadata": {
        "id": "Gt6PXTa6y591"
      },
      "outputs": [],
      "source": [
        "class DataFrame:\n",
        "  def __init__(self, resouce, tables = []):\n",
        "    self.__tables = tables\n",
        "    self.__parserGS = ParserGoogleSheet(resouce, \"dataframe_file.xlsx\")\n",
        "    \n",
        "    self.__update()\n",
        "\n",
        "    self.__parserLocal = ParserTables(self.__tables)\n",
        "    self.__lastUpdate = datetime.now()\n",
        "\n",
        "  def __update(self):\n",
        "    self.__tables = self.__parserGS.parse()\n",
        "\n",
        "  def __check_update(self):\n",
        "    update_time = 2*60*60\n",
        "    if (datetime.now() - self.__lastUpdate).seconds > update_time:\n",
        "      self.__update()\n",
        "    return True\n",
        "\n",
        "  def add(self, table):\n",
        "    for t in self.__tables:\n",
        "      if table.get_name() == t.get_name():\n",
        "        raise Exception(\"a table with this name already exists\")\n",
        "    self.__tables.append(table)\n",
        "  \n",
        "  def get_tables(self):\n",
        "    return self.__tables\n",
        "\n",
        "  def request(self, msg):\n",
        "    self.__check_update()\n",
        "    return self.__parserLocal.parse(msg)\n",
        "  \n",
        "\n",
        "\n",
        "\n",
        "\n",
        "  def print_tables(self): #to del\n",
        "    for i in self.__tables:\n",
        "      print(i.get_table())\n",
        "  \n",
        "  "
      ]
    },
    {
      "cell_type": "code",
      "execution_count": 70,
      "metadata": {
        "id": "aBHOlrgli2mU"
      },
      "outputs": [],
      "source": [
        "class Table:\n",
        "  def __init__(self, name, colomns, lines=[]):\n",
        "    self.__name = name\n",
        "    self.__colomns = colomns\n",
        "    if not lines:\n",
        "      lines = [pd.Series()]*len(colomns)\n",
        "    self.data = pd.DataFrame(self.__make_dir(colomns, lines))\n",
        "\n",
        "  def __make_dir(self, keys, values):\n",
        "    return {k:v for k, v in zip(keys, values)}\n",
        "\n",
        "  def add_line(self, line):\n",
        "    self.data = self.data.append(self.__make_dir(self.data.columns, line), ignore_index=True)\n",
        "  \n",
        "  def add_lines(self, colomns):\n",
        "    for line in zip(*colomns):\n",
        "      self.add_line(line)\n",
        "\n",
        "  def get_table(self):\n",
        "    return self.data\n",
        "\n",
        "  def get_name(self):\n",
        "    return self.__name\n",
        "\n",
        "  def sort_by(self, param):\n",
        "    self.data = self.data.sort_values(by=param)\n",
        "  \n",
        "  def reset_index(self):\n",
        "    self.data = self.data.reset_index()\n",
        "\n",
        "  def __getitem__(self, item):\n",
        "    for c in self.__colomns:\n",
        "      if item in list(self.data[c]):\n",
        "        return  self.data[self.data[c] == item]"
      ]
    },
    {
      "cell_type": "markdown",
      "metadata": {
        "id": "lnJTeXP8vrTr"
      },
      "source": [
        "## tests"
      ]
    },
    {
      "cell_type": "code",
      "execution_count": 177,
      "metadata": {
        "colab": {
          "base_uri": "https://localhost:8080/"
        },
        "id": "brzfmFLYEaxv",
        "outputId": "b8283c2a-5ee1-4909-8540-cd7523ba0394"
      },
      "outputs": [
        {
          "output_type": "execute_result",
          "data": {
            "text/plain": [
              "index              71\n",
              "Surname         Бахнэ\n",
              "Name           Сергей\n",
              "Lastname            -\n",
              "Post        ассистент\n",
              "Name: 11, dtype: object"
            ]
          },
          "metadata": {},
          "execution_count": 177
        }
      ],
      "source": [
        "tf = DataFrame(\"1s_u2pPZ3xdu_tBrVy7hriV2xj15OP9evJfVAuzFyZSc\") #1s_u2pPZ3xdu_tBrVy7hriV2xj15OP9evJfVAuzFyZSc\")\n",
        "tf.get_tables()"
      ]
    },
    {
      "cell_type": "code",
      "execution_count": 178,
      "metadata": {
        "id": "xl2qkntG_f-g",
        "colab": {
          "base_uri": "https://localhost:8080/",
          "height": 185
        },
        "outputId": "2343e348-36c7-4707-d366-a7e1defd2197"
      },
      "outputs": [
        {
          "output_type": "error",
          "ename": "NameError",
          "evalue": "ignored",
          "traceback": [
            "\u001b[0;31m---------------------------------------------------------------------------\u001b[0m",
            "\u001b[0;31mNameError\u001b[0m                                 Traceback (most recent call last)",
            "\u001b[0;32m<ipython-input-178-b394c27338e0>\u001b[0m in \u001b[0;36m<module>\u001b[0;34m()\u001b[0m\n\u001b[0;32m----> 1\u001b[0;31m \u001b[0mcontr\u001b[0m \u001b[0;34m=\u001b[0m \u001b[0mController\u001b[0m\u001b[0;34m(\u001b[0m\u001b[0;34m)\u001b[0m\u001b[0;34m\u001b[0m\u001b[0;34m\u001b[0m\u001b[0m\n\u001b[0m\u001b[1;32m      2\u001b[0m \u001b[0mcontr\u001b[0m\u001b[0;34m.\u001b[0m\u001b[0mschedule_request\u001b[0m\u001b[0;34m(\u001b[0m\u001b[0mcourse\u001b[0m\u001b[0;34m=\u001b[0m\u001b[0;36m1\u001b[0m\u001b[0;34m,\u001b[0m \u001b[0mweekday_id\u001b[0m\u001b[0;34m=\u001b[0m\u001b[0;34m[\u001b[0m\u001b[0;36m1\u001b[0m\u001b[0;34m,\u001b[0m \u001b[0;36m2\u001b[0m\u001b[0;34m]\u001b[0m\u001b[0;34m)\u001b[0m\u001b[0;34m\u001b[0m\u001b[0;34m\u001b[0m\u001b[0m\n",
            "\u001b[0;31mNameError\u001b[0m: name 'Controller' is not defined"
          ]
        }
      ],
      "source": [
        "contr = Controller()\n",
        "contr.schedule_request(course=1, weekday_id=[1, 2])"
      ]
    },
    {
      "cell_type": "code",
      "execution_count": null,
      "metadata": {
        "id": "yrlEXtLGXDA9"
      },
      "outputs": [],
      "source": [
        "contr.schedule_db_request()[\"classes\"]"
      ]
    },
    {
      "cell_type": "code",
      "execution_count": null,
      "metadata": {
        "id": "r3Uey-ryf50d"
      },
      "outputs": [],
      "source": [
        "df = pd.DataFrame({\"a\": pd.Series(1), \"b\": pd.Series(2)})\n",
        "df = df.append({\"a\" : 3, \"b\": 4}, ignore_index=True)\n",
        "df"
      ]
    },
    {
      "cell_type": "markdown",
      "metadata": {
        "id": "yxclQ9feuktq"
      },
      "source": [
        "## api zone"
      ]
    },
    {
      "cell_type": "markdown",
      "metadata": {
        "id": "KUQLfy_oE0--"
      },
      "source": [
        "адрес сервисного аккаунта - \n",
        "service-admin-230@central-diode-342919.iam.gserviceaccount.com \t\n",
        "\n",
        "\n",
        "Лимиты Google Sheets API\n",
        "\n",
        "\n",
        "1.   List item\n",
        "2.   List item\n",
        "\n",
        "\n",
        "Google почти ко всем своим API доступ выдает БЕСПЛАТНО и без премодерации (в тестовом режиме). Однако ограничивает. К некоторым апи ограничения сильные, а к Sheets API вполне приемлемые.\n",
        "\n",
        "    Read requests per minute 300\n",
        "    Read requests per minute per user 60\n",
        "    Read requests per day Unlimited\n",
        "\n",
        "    Write requests per minute 300\n",
        "    Write requests per minute per user 60\n",
        "    Write requests per day Unlimited "
      ]
    },
    {
      "cell_type": "markdown",
      "source": [
        "##downloading xls"
      ],
      "metadata": {
        "id": "Vf8A6opec0ua"
      }
    },
    {
      "cell_type": "code",
      "source": [
        "cell = sheet.cell(row=13, column=1)\n",
        "if type(cell).__name__ == 'MergedCell':\n",
        "  print(\"Oh no, the cell is merged!\")\n",
        "else:\n",
        "  print(\"This cell is not merged.\")\n"
      ],
      "metadata": {
        "colab": {
          "base_uri": "https://localhost:8080/"
        },
        "id": "0IgCLqIChtqZ",
        "outputId": "78162aa8-1d5f-4436-b974-1ea6cfe8aeb2"
      },
      "execution_count": 155,
      "outputs": [
        {
          "output_type": "stream",
          "name": "stdout",
          "text": [
            "This cell is not merged.\n"
          ]
        }
      ]
    },
    {
      "cell_type": "code",
      "execution_count": 56,
      "metadata": {
        "id": "ZbpxRucAE40h",
        "colab": {
          "base_uri": "https://localhost:8080/"
        },
        "outputId": "2aff0961-3457-4ddf-abc8-0a5e7ed05e0f"
      },
      "outputs": [
        {
          "output_type": "stream",
          "name": "stdout",
          "text": [
            "Download 100%.\n"
          ]
        }
      ],
      "source": [
        ""
      ]
    },
    {
      "cell_type": "code",
      "source": [
        "from openpyxl import load_workbook\n",
        "import string\n",
        "latin_alphabet = ['-']+list(string.ascii_uppercase)\n",
        "wb = load_workbook('./c4.xlsx')"
      ],
      "metadata": {
        "id": "fkTD5mtIduyb"
      },
      "execution_count": 1,
      "outputs": []
    },
    {
      "cell_type": "code",
      "source": [
        "sheet = wb.get_sheet_by_name('4 курс ')"
      ],
      "metadata": {
        "colab": {
          "base_uri": "https://localhost:8080/"
        },
        "id": "dVELVOOvc6Dz",
        "outputId": "3b604777-3b70-423b-e0b3-514bdc6bc1ad"
      },
      "execution_count": 2,
      "outputs": [
        {
          "output_type": "stream",
          "name": "stderr",
          "text": [
            "/usr/local/lib/python3.7/dist-packages/ipykernel_launcher.py:1: DeprecationWarning: Call to deprecated function get_sheet_by_name (Use wb[sheetname]).\n",
            "  \"\"\"Entry point for launching an IPython kernel.\n"
          ]
        }
      ]
    },
    {
      "cell_type": "code",
      "source": [
        "def get_colomn_and_row(_range):\n",
        "  c = 0\n",
        "  r = ''\n",
        "  for i in _range:\n",
        "    if i.isalpha():\n",
        "      c += latin_alphabet.index(i)\n",
        "    else:\n",
        "      r += i\n",
        "  return (c, int(r))\n",
        "\n",
        "def find_not_NaN(startC, endC, sheet):\n",
        "  for c in range(startC[0], endC[0]+1):\n",
        "        for r in range(startC[1], endC[1]+1):\n",
        "          if type(sheet.cell(row=r, column=c).value) == str and sheet.cell(row=r, column=c).value:\n",
        "            return sheet.cell(row=r, column=c).value\n",
        "\n",
        "def unmerge_cells_in_list(sheet):\n",
        "  merged_Cells = list(sheet.merged_cells.ranges)\n",
        "  \n",
        "  for _range in merged_Cells:\n",
        "    startC, endC = map(get_colomn_and_row, str(_range).split(':'))\n",
        "    sheet.unmerge_cells(str(_range))\n",
        "    v = find_not_NaN(startC, endC, sheet)\n",
        "\n",
        "    for c in range(startC[0], endC[0]+1):\n",
        "      for r in range(startC[1], endC[1]+1):\n",
        "        sheet.cell(row=r, column=c).value = sheet.cell(row=startC[1], column=startC[0]).value"
      ],
      "metadata": {
        "id": "viQ-RK8Xh-k1"
      },
      "execution_count": 3,
      "outputs": []
    },
    {
      "cell_type": "code",
      "source": [
        "unmerge_cells_in_list(sheet)"
      ],
      "metadata": {
        "id": "uhSP6Q-tjOHO"
      },
      "execution_count": 4,
      "outputs": []
    },
    {
      "cell_type": "code",
      "source": [
        "#wb.save(\"c4_parsed.xlsx\")"
      ],
      "metadata": {
        "id": "HHQcc0FjolhH"
      },
      "execution_count": 276,
      "outputs": []
    },
    {
      "cell_type": "code",
      "source": [
        "#pd.read_csv(\"c4_parsed.csv\")"
      ],
      "metadata": {
        "id": "RvKC69ioAT-f"
      },
      "execution_count": 57,
      "outputs": []
    },
    {
      "cell_type": "markdown",
      "metadata": {
        "id": "GMQ8q-3du32e"
      },
      "source": [
        "## gs interaction info"
      ]
    },
    {
      "cell_type": "code",
      "source": [
        "from google.oauth2 import service_account\n",
        "from googleapiclient.http import MediaIoBaseDownload,MediaFileUpload\n",
        "from googleapiclient.discovery import build\n",
        "import pprint\n",
        "import math\n",
        "import pandas as pd\n",
        "import io\n",
        "\n",
        "SCOPES = ['https://www.googleapis.com/auth/drive']\n",
        "SERVICE_ACCOUNT_FILE = 'central-diode-342919-c35aafd1b173.json'\n",
        "credentials = service_account.Credentials.from_service_account_file(\n",
        "        SERVICE_ACCOUNT_FILE, scopes=SCOPES)\n",
        "pp = pprint.PrettyPrinter(indent=4)\n",
        "\n",
        "\n",
        "service = build('drive', 'v3', credentials=credentials)\n",
        "\n",
        "file_id = '1uiXDH2UXT-HaxGjuLoqHDVnOAXb4xeCMXTnSYj5rvi4' #1s_u2pPZ3xdu_tBrVy7hriV2xj15OP9evJfVAuzFyZSc'\n",
        "request = service.files().export_media(fileId=file_id,\n",
        "                                             mimeType='application/vnd.openxmlformats-officedocument.spreadsheetml.sheet')\n",
        "\n",
        "filename = 'opa.xlsx'\n",
        "fh = io.FileIO(filename, 'wb')\n",
        "downloader = MediaIoBaseDownload(fh, request)\n",
        "done = False\n",
        "while done is False:\n",
        "    status, done = downloader.next_chunk()\n",
        "    print (\"Download %d%%.\" % int(status.progress() * 100))"
      ],
      "metadata": {
        "colab": {
          "base_uri": "https://localhost:8080/"
        },
        "id": "MKZSHBmFS_CM",
        "outputId": "fafaead4-705a-45ce-8cb4-a8138bd7574f"
      },
      "execution_count": 16,
      "outputs": [
        {
          "output_type": "stream",
          "name": "stdout",
          "text": [
            "Download 100%.\n"
          ]
        }
      ]
    },
    {
      "cell_type": "code",
      "execution_count": 47,
      "metadata": {
        "id": "MZV7JWPPFpeU",
        "colab": {
          "base_uri": "https://localhost:8080/",
          "height": 271
        },
        "outputId": "40bdf296-41cd-4c44-8f3d-030be45eb74a"
      },
      "outputs": [
        {
          "output_type": "error",
          "ename": "NameError",
          "evalue": "ignored",
          "traceback": [
            "\u001b[0;31m---------------------------------------------------------------------------\u001b[0m",
            "\u001b[0;31mNameError\u001b[0m                                 Traceback (most recent call last)",
            "\u001b[0;32m<ipython-input-47-743c460ba223>\u001b[0m in \u001b[0;36m<module>\u001b[0;34m()\u001b[0m\n\u001b[1;32m      1\u001b[0m \u001b[0;31m#создание таблички\u001b[0m\u001b[0;34m\u001b[0m\u001b[0;34m\u001b[0m\u001b[0;34m\u001b[0m\u001b[0m\n\u001b[0;32m----> 2\u001b[0;31m \u001b[0mdriveService\u001b[0m \u001b[0;34m=\u001b[0m \u001b[0mapiclient\u001b[0m\u001b[0;34m.\u001b[0m\u001b[0mdiscovery\u001b[0m\u001b[0;34m.\u001b[0m\u001b[0mbuild\u001b[0m\u001b[0;34m(\u001b[0m\u001b[0;34m'drive'\u001b[0m\u001b[0;34m,\u001b[0m \u001b[0;34m'v3'\u001b[0m\u001b[0;34m,\u001b[0m \u001b[0mhttp\u001b[0m \u001b[0;34m=\u001b[0m \u001b[0mhttpAuth\u001b[0m\u001b[0;34m)\u001b[0m \u001b[0;31m# Выбираем работу с Google Drive и 3 версию API\u001b[0m\u001b[0;34m\u001b[0m\u001b[0;34m\u001b[0m\u001b[0m\n\u001b[0m\u001b[1;32m      3\u001b[0m access = driveService.permissions().create(\n\u001b[1;32m      4\u001b[0m     \u001b[0mfileId\u001b[0m \u001b[0;34m=\u001b[0m \u001b[0mspreadsheetId\u001b[0m\u001b[0;34m,\u001b[0m\u001b[0;34m\u001b[0m\u001b[0;34m\u001b[0m\u001b[0m\n\u001b[1;32m      5\u001b[0m     \u001b[0mbody\u001b[0m \u001b[0;34m=\u001b[0m \u001b[0;34m{\u001b[0m\u001b[0;34m'type'\u001b[0m\u001b[0;34m:\u001b[0m \u001b[0;34m'user'\u001b[0m\u001b[0;34m,\u001b[0m \u001b[0;34m'role'\u001b[0m\u001b[0;34m:\u001b[0m \u001b[0;34m'writer'\u001b[0m\u001b[0;34m,\u001b[0m \u001b[0;34m'emailAddress'\u001b[0m\u001b[0;34m:\u001b[0m \u001b[0;34m'kokhanova.va@phystech.edu'\u001b[0m\u001b[0;34m}\u001b[0m\u001b[0;34m,\u001b[0m  \u001b[0;31m# Открываем доступ на редактирование\u001b[0m\u001b[0;34m\u001b[0m\u001b[0;34m\u001b[0m\u001b[0m\n",
            "\u001b[0;31mNameError\u001b[0m: name 'httpAuth' is not defined"
          ]
        }
      ],
      "source": [
        "#создание таблички\n",
        "driveService = apiclient.discovery.build('drive', 'v3', http = httpAuth) # Выбираем работу с Google Drive и 3 версию API\n",
        "access = driveService.permissions().create(\n",
        "    fileId = spreadsheetId,\n",
        "    body = {'type': 'user', 'role': 'writer', 'emailAddress': 'kokhanova.va@phystech.edu'},  # Открываем доступ на редактирование\n",
        "    fields = 'id'\n",
        ").execute()"
      ]
    },
    {
      "cell_type": "code",
      "execution_count": null,
      "metadata": {
        "id": "bEy9lrUsGRaI"
      },
      "outputs": [],
      "source": [
        "#добавление листа\n",
        "results = service.spreadsheets().batchUpdate(\n",
        "    spreadsheetId = spreadsheetId,\n",
        "    body = \n",
        "{\n",
        "  \"requests\": [\n",
        "    {\n",
        "      \"addSheet\": {\n",
        "        \"properties\": {\n",
        "          \"title\": \"Еще один лист\",\n",
        "          \"gridProperties\": {\n",
        "            \"rowCount\": 20,\n",
        "            \"columnCount\": 12\n",
        "          }\n",
        "        }\n",
        "      }\n",
        "    }\n",
        "  ]\n",
        "}).execute()\n",
        "\n",
        "\n",
        "# Получаем список листов, их Id и название\n",
        "spreadsheet = service.spreadsheets().get(spreadsheetId = spreadsheetId).execute()\n",
        "sheetList = spreadsheet.get('sheets')\n",
        "for sheet in sheetList:\n",
        "    print(sheet['properties']['sheetId'], sheet['properties']['title'])\n",
        "    \n",
        "sheetId = sheetList[0]['properties']['sheetId']\n",
        "\n",
        "print('Мы будем использовать лист с Id = ', sheetId)"
      ]
    },
    {
      "cell_type": "code",
      "execution_count": 46,
      "metadata": {
        "id": "BF104QzcGhA0",
        "colab": {
          "base_uri": "https://localhost:8080/",
          "height": 289
        },
        "outputId": "721df2f3-d5e9-4607-ffdc-166dfa334003"
      },
      "outputs": [
        {
          "output_type": "error",
          "ename": "NameError",
          "evalue": "ignored",
          "traceback": [
            "\u001b[0;31m---------------------------------------------------------------------------\u001b[0m",
            "\u001b[0;31mNameError\u001b[0m                                 Traceback (most recent call last)",
            "\u001b[0;32m<ipython-input-46-509804b72380>\u001b[0m in \u001b[0;36m<module>\u001b[0;34m()\u001b[0m\n\u001b[1;32m      2\u001b[0m \u001b[0mranges\u001b[0m \u001b[0;34m=\u001b[0m \u001b[0;34m[\u001b[0m\u001b[0;34m\"1 курс !A1:G51\"\u001b[0m\u001b[0;34m]\u001b[0m \u001b[0;31m#\u001b[0m\u001b[0;34m\u001b[0m\u001b[0;34m\u001b[0m\u001b[0m\n\u001b[1;32m      3\u001b[0m \u001b[0;34m\u001b[0m\u001b[0m\n\u001b[0;32m----> 4\u001b[0;31m results = service.spreadsheets().values().batchGet(spreadsheetId = \"1uiXDH2UXT-HaxGjuLoqHDVnOAXb4xeCMXTnSYj5rvi4\", #1s_u2pPZ3xdu_tBrVy7hriV2xj15OP9evJfVAuzFyZSc\", \n\u001b[0m\u001b[1;32m      5\u001b[0m                                      \u001b[0mranges\u001b[0m \u001b[0;34m=\u001b[0m \u001b[0mranges\u001b[0m\u001b[0;34m,\u001b[0m\u001b[0;34m\u001b[0m\u001b[0;34m\u001b[0m\u001b[0m\n\u001b[1;32m      6\u001b[0m                                      \u001b[0mvalueRenderOption\u001b[0m \u001b[0;34m=\u001b[0m \u001b[0;34m'UNFORMATTED_VALUE'\u001b[0m\u001b[0;34m,\u001b[0m\u001b[0;34m\u001b[0m\u001b[0;34m\u001b[0m\u001b[0m\n",
            "\u001b[0;31mNameError\u001b[0m: name 'service' is not defined"
          ]
        }
      ],
      "source": [
        "#чтение\n",
        "ranges = [\"1 курс !A1:G51\"] # \n",
        "          \n",
        "results = service.spreadsheets().values().batchGet(spreadsheetId = \"1uiXDH2UXT-HaxGjuLoqHDVnOAXb4xeCMXTnSYj5rvi4\", #1s_u2pPZ3xdu_tBrVy7hriV2xj15OP9evJfVAuzFyZSc\", \n",
        "                                     ranges = ranges, \n",
        "                                     valueRenderOption = 'UNFORMATTED_VALUE',  \n",
        "                                     dateTimeRenderOption = 'FORMATTED_STRING').execute() \n",
        "sheet_values = results['valueRanges'][0]['values']\n",
        "\n",
        "first_pair = '9:00-10:25'\n",
        "\n",
        "for i in range(len(sheet_values)):\n",
        "  if any(map(lambda x: x == \"Понедельник\", sheet_values[i])):\n",
        "    start_line_id = i\n",
        "\n",
        "prev_line = []\n",
        "\n",
        "for line in sheet_values[start_line_id:]:\n",
        "  if line:\n",
        "    line += [line[-1]]*(7-len(line))\n",
        "    for cell_id in range(len(line)-1):\n",
        "      if not line[cell_id]:\n",
        "        line[cell_id] = prev_line[cell_id]\n",
        "    prev_line = line\n",
        "  print(line)\n",
        "\n"
      ]
    },
    {
      "cell_type": "code",
      "execution_count": 49,
      "metadata": {
        "id": "FcAYXPDVMmxi",
        "colab": {
          "base_uri": "https://localhost:8080/",
          "height": 289
        },
        "outputId": "ebca3c9e-0c6f-4e47-fc45-434cd4b4c10d"
      },
      "outputs": [
        {
          "output_type": "error",
          "ename": "AttributeError",
          "evalue": "ignored",
          "traceback": [
            "\u001b[0;31m---------------------------------------------------------------------------\u001b[0m",
            "\u001b[0;31mAttributeError\u001b[0m                            Traceback (most recent call last)",
            "\u001b[0;32m<ipython-input-49-49d37e43e5b4>\u001b[0m in \u001b[0;36m<module>\u001b[0;34m()\u001b[0m\n\u001b[1;32m     11\u001b[0m \u001b[0mservice\u001b[0m \u001b[0;34m=\u001b[0m \u001b[0mapiclient\u001b[0m\u001b[0;34m.\u001b[0m\u001b[0mdiscovery\u001b[0m\u001b[0;34m.\u001b[0m\u001b[0mbuild\u001b[0m\u001b[0;34m(\u001b[0m\u001b[0;34m'sheets'\u001b[0m\u001b[0;34m,\u001b[0m \u001b[0;34m'v4'\u001b[0m\u001b[0;34m,\u001b[0m \u001b[0mhttp\u001b[0m \u001b[0;34m=\u001b[0m \u001b[0mhttpAuth\u001b[0m\u001b[0;34m)\u001b[0m \u001b[0;31m# Выбираем работу с таблицами и 4 версию API\u001b[0m\u001b[0;34m\u001b[0m\u001b[0;34m\u001b[0m\u001b[0m\n\u001b[1;32m     12\u001b[0m \u001b[0mfile_id\u001b[0m \u001b[0;34m=\u001b[0m \u001b[0;34m'1uiXDH2UXT-HaxGjuLoqHDVnOAXb4xeCMXTnSYj5rvi4'\u001b[0m \u001b[0;31m#1s_u2pPZ3xdu_tBrVy7hriV2xj15OP9evJfVAuzFyZSc'\u001b[0m\u001b[0;34m\u001b[0m\u001b[0;34m\u001b[0m\u001b[0m\n\u001b[0;32m---> 13\u001b[0;31m request = service.files().export_media(fileId=file_id,\n\u001b[0m\u001b[1;32m     14\u001b[0m                                              mimeType='application/vnd.openxmlformats-officedocument.spreadsheetml.sheet')\n\u001b[1;32m     15\u001b[0m \u001b[0mfilename\u001b[0m \u001b[0;34m=\u001b[0m \u001b[0;34m'Sheet.xlsx'\u001b[0m\u001b[0;34m\u001b[0m\u001b[0;34m\u001b[0m\u001b[0m\n",
            "\u001b[0;31mAttributeError\u001b[0m: 'Resource' object has no attribute 'files'"
          ]
        }
      ],
      "source": [
        "import httplib2 \n",
        "import apiclient.discovery\n",
        "from oauth2client.service_account import ServiceAccountCredentials\t\n",
        "\n",
        "CREDENTIALS_FILE = 'central-diode-342919-c35aafd1b173.json'  # Имя файла с закрытым ключом, вы должны подставить свое\n",
        "\n",
        "# Читаем ключи из файла\n",
        "credentials = ServiceAccountCredentials.from_json_keyfile_name(CREDENTIALS_FILE, ['https://www.googleapis.com/auth/spreadsheets', 'https://www.googleapis.com/auth/drive'])\n",
        "\n",
        "httpAuth = credentials.authorize(httplib2.Http()) # Авторизуемся в системе\n",
        "service = apiclient.discovery.build('sheets', 'v4', http = httpAuth) # Выбираем работу с таблицами и 4 версию API \n",
        "file_id = '1uiXDH2UXT-HaxGjuLoqHDVnOAXb4xeCMXTnSYj5rvi4' #1s_u2pPZ3xdu_tBrVy7hriV2xj15OP9evJfVAuzFyZSc'\n",
        "request = service.files().export_media(fileId=file_id,\n",
        "                                             mimeType='application/vnd.openxmlformats-officedocument.spreadsheetml.sheet')\n",
        "filename = 'Sheet.xlsx'\n",
        "fh = io.FileIO(filename, 'wb')\n",
        "downloader = MediaIoBaseDownload(fh, request)\n",
        "done = False\n",
        "while done is False:\n",
        "    status, done = downloader.next_chunk()\n",
        "    print (\"Download %d%%.\" % int(status.progress() * 100))"
      ]
    },
    {
      "cell_type": "code",
      "source": [
        ""
      ],
      "metadata": {
        "id": "pcflRt3oLZLz"
      },
      "execution_count": null,
      "outputs": []
    },
    {
      "cell_type": "code",
      "source": [
        "df = pd.DataFrame({'name': ['Raphael', 'Donatello'],\n",
        "                   'mask': ['red', 'purple'],\n",
        "                   'weapon': ['sai', 'bo staff']})\n",
        "\n",
        "df.to_csv(\"t.csv\")"
      ],
      "metadata": {
        "id": "G2MpVNCcFaX-"
      },
      "execution_count": 54,
      "outputs": []
    }
  ],
  "metadata": {
    "colab": {
      "collapsed_sections": [
        "zFpDKQs2i7l3",
        "41tixhuDjCB8",
        "qt4qswetjLmA",
        "VY8BO1CAiX1w",
        "07_1wjqIibXV",
        "TiKq9JujiQT4",
        "roik8zkITECi",
        "6zu3qMm-ieye",
        "-ERSrzGITJNp",
        "lnJTeXP8vrTr",
        "yxclQ9feuktq",
        "Vf8A6opec0ua",
        "GMQ8q-3du32e"
      ],
      "name": "Engine&Controller.ipynb",
      "provenance": []
    },
    "kernelspec": {
      "display_name": "Python 3",
      "name": "python3"
    },
    "language_info": {
      "name": "python"
    }
  },
  "nbformat": 4,
  "nbformat_minor": 0
}